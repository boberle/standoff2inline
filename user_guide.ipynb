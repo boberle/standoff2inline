{
 "cells": [
  {
   "cell_type": "markdown",
   "metadata": {},
   "source": [
    "# `standoff2inline` module user guide"
   ]
  },
  {
   "cell_type": "markdown",
   "metadata": {},
   "source": [
    "Converting standoff annotations to inline annotations.\n",
    "\n",
    "For example, in the sentence:\n",
    "\n",
    "    The little cat drinks milk.\n",
    "\n",
    "you know that the third word, between the 12th and 14th characters, is a noun. You may want to surround it with some tags, like `<noun>` and `</noun>`:\n",
    "\n",
    "    The little <noun>cat</noun> drinks milk.\n",
    "\n",
    "This module offer classes and function to:\n",
    "* add inline annotations, like xml annotations, counting in characters or tokens,\n",
    "* highlight some chunks of text, for example with styled `<span>` tags,\n",
    "* remove parts without annotations and replace them with something like `[...]`."
   ]
  },
  {
   "cell_type": "markdown",
   "metadata": {},
   "source": [
    "## Overview"
   ]
  },
  {
   "cell_type": "markdown",
   "metadata": {},
   "source": [
    "Adding annotations from **character positions**:"
   ]
  },
  {
   "cell_type": "code",
   "execution_count": 1,
   "metadata": {},
   "outputs": [
    {
     "data": {
      "text/plain": [
       "'<sent><gn><det>The</det> little <noun>cat</noun></gn> drinks <noun>milk</noun>.</sent>'"
      ]
     },
     "execution_count": 1,
     "metadata": {},
     "output_type": "execute_result"
    }
   ],
   "source": [
    "from standoff2inline import Standoff2Inline\n",
    "\n",
    "string = \"The little cat drinks milk.\"\n",
    "inliner = Standoff2Inline()\n",
    "inliner.add((0, \"<sent>\"), (26, \"</sent>\"))\n",
    "inliner.add((0, \"<gn>\"), (13, \"</gn>\"))\n",
    "inliner.add((11, \"<noun>\"), (13, \"</noun>\"))\n",
    "inliner.add((22, \"<noun>\"), (25, \"</noun>\"))\n",
    "inliner.add((0, \"<det>\"), (2, \"</det>\"))\n",
    "inliner.apply(string)"
   ]
  },
  {
   "cell_type": "markdown",
   "metadata": {},
   "source": [
    "Adding annotations from **token positions**:"
   ]
  },
  {
   "cell_type": "code",
   "execution_count": 2,
   "metadata": {},
   "outputs": [
    {
     "data": {
      "text/plain": [
       "'<sent><gn><det>The</det> little <noun>cat</noun></gn> drinks <noun>milk</noun> .</sent> '"
      ]
     },
     "execution_count": 2,
     "metadata": {},
     "output_type": "execute_result"
    }
   ],
   "source": [
    "from standoff2inline import Standoff2Inline\n",
    "\n",
    "tokens = \"The little cat drinks milk .\".split()\n",
    "inliner = Standoff2Inline()\n",
    "inliner.add((0, \"<sent>\"), (5, \"</sent>\"))\n",
    "inliner.add((0, \"<gn>\"), (2, \"</gn>\"))\n",
    "inliner.add((2, \"<noun>\"), (2, \"</noun>\"))\n",
    "inliner.add((4, \"<noun>\"), (4, \"</noun>\"))\n",
    "inliner.add((0, \"<det>\"), (0, \"</det>\"))\n",
    "inliner.apply(tokens=tokens)"
   ]
  },
  {
   "cell_type": "markdown",
   "metadata": {},
   "source": [
    "Using the `Highlighter` class to **highlight** differently different parts of speech:\n",
    "* determiners in red\n",
    "* nouns underlined\n",
    "* verbs in bold and italic"
   ]
  },
  {
   "cell_type": "code",
   "execution_count": 1,
   "metadata": {},
   "outputs": [
    {
     "name": "stdout",
     "output_type": "stream",
     "text": [
      "<span style=\"color: red; \">The</span> little <span style=\"text-decoration: underline; \">cat</span> <span style=\"font-weight: bold; font-style: italic; \">[drinks]</span> <span style=\"text-decoration: underline; \">milk</span> ...\n"
     ]
    },
    {
     "data": {
      "text/html": [
       "<span style=\"color: red; \">The</span> little <span style=\"text-decoration: underline; \">cat</span> <span style=\"font-weight: bold; font-style: italic; \">[drinks]</span> <span style=\"text-decoration: underline; \">milk</span> ..."
      ],
      "text/plain": [
       "<IPython.core.display.HTML object>"
      ]
     },
     "metadata": {},
     "output_type": "display_data"
    }
   ],
   "source": [
    "from standoff2inline import Highlighter, highlight\n",
    "\n",
    "hl_det = Highlighter()\n",
    "hl_det.add_mark(0, 0)\n",
    "hl_det.set_style(color=\"red\")\n",
    "\n",
    "hl_noun = Highlighter()\n",
    "hl_noun.add_mark(2, 2)\n",
    "hl_noun.add_mark(4, 4)\n",
    "hl_noun.set_style(underline=True)\n",
    "\n",
    "hl_verb = Highlighter(prefix=\"[\", suffix=\"]\")\n",
    "hl_verb.add_mark(3, 3)\n",
    "hl_verb.set_style(bold=True, italic=True)\n",
    "\n",
    "tokens = \"The little cat drinks milk ...\".split()\n",
    "res = highlight(tokens, hl_det, hl_noun, hl_verb)\n",
    "\n",
    "print(res)\n",
    "\n",
    "from IPython.core.display import display, HTML\n",
    "display(HTML(res))"
   ]
  },
  {
   "cell_type": "markdown",
   "metadata": {},
   "source": [
    "**Cut** long passages without annotations (and replace by e.g. \"[...]\"):"
   ]
  },
  {
   "cell_type": "code",
   "execution_count": 11,
   "metadata": {},
   "outputs": [
    {
     "data": {
      "text/plain": [
       "'<span type=\"det\">The</span> little <span type=\"noun\">cat</span> who played [...] children drinks <span type=\"noun\">milk</span> ... And [...]'"
      ]
     },
     "execution_count": 11,
     "metadata": {},
     "output_type": "execute_result"
    }
   ],
   "source": [
    "from standoff2inline import Highlighter, highlight\n",
    "\n",
    "hl = Highlighter(suffix=\"</span>\")\n",
    "hl.add_mark(2, 2, '<span type=\"noun\">')\n",
    "hl.add_mark(12, 12 ,'<span type=\"noun\">')\n",
    "hl.add_mark(0, 0, '<span type=\"det\">')\n",
    "tokens = \"The little cat who played yesterday with my \" \\\n",
    "    \"neighbor 's children drinks \" \\\n",
    "    \"milk ...  And the next sentence ...\".split()\n",
    "highlight(tokens, hl, margin=2, max_gap=4)"
   ]
  },
  {
   "cell_type": "markdown",
   "metadata": {},
   "source": [
    "# Inliner recipes"
   ]
  },
  {
   "cell_type": "code",
   "execution_count": 3,
   "metadata": {},
   "outputs": [],
   "source": [
    "from standoff2inline import Standoff2Inline"
   ]
  },
  {
   "cell_type": "markdown",
   "metadata": {},
   "source": [
    "Add annotations at some positions:"
   ]
  },
  {
   "cell_type": "code",
   "execution_count": 4,
   "metadata": {},
   "outputs": [
    {
     "data": {
      "text/plain": [
       "'(flag)The(flag) (flag)little(flag) cat drinks milk.'"
      ]
     },
     "execution_count": 4,
     "metadata": {},
     "output_type": "execute_result"
    }
   ],
   "source": [
    "string = \"The little cat drinks milk.\"\n",
    "inliner = Standoff2Inline()\n",
    "inliner.add((0, \"(flag)\"))\n",
    "inliner.add((3, \"(flag)\"))\n",
    "inliner.add((4, \"(flag)\"))\n",
    "inliner.add((10, \"(flag)\"))\n",
    "inliner.apply(string)"
   ]
  },
  {
   "cell_type": "markdown",
   "metadata": {},
   "source": [
    "Put open and close tags:"
   ]
  },
  {
   "cell_type": "code",
   "execution_count": 5,
   "metadata": {},
   "outputs": [
    {
     "data": {
      "text/plain": [
       "'<sent><gn><det>The</det> little <noun>cat</noun></gn> drinks <noun>milk</noun>.</sent>'"
      ]
     },
     "execution_count": 5,
     "metadata": {},
     "output_type": "execute_result"
    }
   ],
   "source": [
    "string = \"The little cat drinks milk.\"\n",
    "inliner = Standoff2Inline()\n",
    "inliner.add((0, \"<sent>\"), (26, \"</sent>\"))\n",
    "inliner.add((0, \"<gn>\"), (13, \"</gn>\"))\n",
    "inliner.add((11, \"<noun>\"), (13, \"</noun>\"))\n",
    "inliner.add((22, \"<noun>\"), (25, \"</noun>\"))\n",
    "inliner.add((0, \"<det>\"), (2, \"</det>\"))\n",
    "inliner.apply(string)"
   ]
  },
  {
   "cell_type": "markdown",
   "metadata": {},
   "source": [
    "You can use predefined modules, like:\n",
    "- xml\n",
    "- sacr (http://www.lrec-conf.org/proceedings/lrec2018/summaries/178.html)\n",
    "\n",
    "Example with XML (notice how to specify tagname and attributes):"
   ]
  },
  {
   "cell_type": "code",
   "execution_count": 6,
   "metadata": {},
   "outputs": [
    {
     "data": {
      "text/plain": [
       "'<sent foo=\"bar\" truc=\"chose\"><gn><det>The</det> little <noun>cat</noun></gn> drinks <noun>milk</noun>.</sent>'"
      ]
     },
     "execution_count": 6,
     "metadata": {},
     "output_type": "execute_result"
    }
   ],
   "source": [
    "string = \"The little cat drinks milk.\"\n",
    "inliner = Standoff2Inline(kind='xml')\n",
    "inliner.add((0, ('sent', dict(foo=\"bar\", truc=\"chose\"))), 26)\n",
    "inliner.add((0, 'gn'), 13)\n",
    "inliner.add((11, (\"noun\", dict())), 13)\n",
    "inliner.add((22, \"noun\"), 25)\n",
    "inliner.add((0, \"det\"), 2)\n",
    "inliner.apply(string)"
   ]
  },
  {
   "cell_type": "markdown",
   "metadata": {},
   "source": [
    "You can also use tokens instead of a string:"
   ]
  },
  {
   "cell_type": "code",
   "execution_count": 7,
   "metadata": {},
   "outputs": [
    {
     "data": {
      "text/plain": [
       "'<sent><gn><det>The</det> little <noun>cat</noun></gn> drinks <noun>milk</noun> .</sent> '"
      ]
     },
     "execution_count": 7,
     "metadata": {},
     "output_type": "execute_result"
    }
   ],
   "source": [
    "tokens = \"The little cat drinks milk .\".split()\n",
    "inliner = Standoff2Inline()\n",
    "inliner.add((0, \"<sent>\"), (5, \"</sent>\"))\n",
    "inliner.add((0, \"<gn>\"), (2, \"</gn>\"))\n",
    "inliner.add((2, \"<noun>\"), (2, \"</noun>\"))\n",
    "inliner.add((4, \"<noun>\"), (4, \"</noun>\"))\n",
    "inliner.add((0, \"<det>\"), (0, \"</det>\"))\n",
    "inliner.apply(tokens=tokens)"
   ]
  },
  {
   "cell_type": "markdown",
   "metadata": {},
   "source": [
    "What happens when two annotation have the same position?  In order of\n",
    "appearance in the resulting string:\n",
    "* first is outer\n",
    "* last is inner"
   ]
  },
  {
   "cell_type": "code",
   "execution_count": 8,
   "metadata": {},
   "outputs": [
    {
     "data": {
      "text/plain": [
       "'The <outer><inner>little</inner></outer> cat drinks milk.'"
      ]
     },
     "execution_count": 8,
     "metadata": {},
     "output_type": "execute_result"
    }
   ],
   "source": [
    "string = \"The little cat drinks milk.\"\n",
    "inliner = Standoff2Inline()\n",
    "inliner.add((4, \"<outer>\"), (9, \"</outer>\"))\n",
    "inliner.add((4, \"<inner>\"), (9, \"</inner>\"))\n",
    "inliner.apply(string)"
   ]
  },
  {
   "cell_type": "markdown",
   "metadata": {},
   "source": [
    "You can iterate over the result:"
   ]
  },
  {
   "cell_type": "code",
   "execution_count": 9,
   "metadata": {},
   "outputs": [
    {
     "name": "stdout",
     "output_type": "stream",
     "text": [
      "prefix \"<sent>\"\n",
      "prefix \"<gn>\"\n",
      "prefix \"<det>\"\n",
      "string \"The\"\n",
      "suffix \"</det>\"\n",
      "string \" little \"\n",
      "prefix \"<noun>\"\n",
      "string \"cat\"\n",
      "suffix \"</noun>\"\n",
      "suffix \"</gn>\"\n",
      "string \" drinks \"\n",
      "prefix \"<noun>\"\n",
      "string \"milk\"\n",
      "suffix \"</noun>\"\n",
      "string \".\"\n",
      "suffix \"</sent>\"\n"
     ]
    }
   ],
   "source": [
    "string = \"The little cat drinks milk.\"\n",
    "inliner = Standoff2Inline()\n",
    "inliner.add((0, \"<sent>\"), (26, \"</sent>\"))\n",
    "inliner.add((0, \"<gn>\"), (13, \"</gn>\"))\n",
    "inliner.add((11, \"<noun>\"), (13, \"</noun>\"))\n",
    "inliner.add((22, \"<noun>\"), (25, \"</noun>\"))\n",
    "inliner.add((0, \"<det>\"), (2, \"</det>\"))\n",
    "for kind, string in inliner.iter_result(string):\n",
    "  print(kind, '\"%s\"' % string)"
   ]
  },
  {
   "cell_type": "markdown",
   "metadata": {},
   "source": [
    "In this case, if you give tokens, you may want to get back tokens and not string: use the `return_tokens` parameter:"
   ]
  },
  {
   "cell_type": "code",
   "execution_count": 10,
   "metadata": {},
   "outputs": [
    {
     "name": "stdout",
     "output_type": "stream",
     "text": [
      "prefix <sent>\n",
      "prefix <gn>\n",
      "prefix <det>\n",
      "string ['The']\n",
      "suffix </det>\n",
      "string ['very', 'little']\n",
      "prefix <noun>\n",
      "string ['cat']\n",
      "suffix </noun>\n",
      "suffix </gn>\n",
      "string ['drinks']\n",
      "prefix <noun>\n",
      "string ['milk']\n",
      "suffix </noun>\n",
      "string ['.']\n",
      "suffix </sent>\n"
     ]
    }
   ],
   "source": [
    "tokens = \"The very little cat drinks milk .\".split()\n",
    "inliner = Standoff2Inline()\n",
    "inliner.add((0, \"<sent>\"), (6, \"</sent>\"))\n",
    "inliner.add((0, \"<gn>\"), (3, \"</gn>\"))\n",
    "inliner.add((3, \"<noun>\"), (3, \"</noun>\"))\n",
    "inliner.add((5, \"<noun>\"), (5, \"</noun>\"))\n",
    "inliner.add((0, \"<det>\"), (0, \"</det>\"))\n",
    "for kind, string in inliner.iter_result(tokens=tokens, return_tokens=True):\n",
    "  print(kind, string)"
   ]
  },
  {
   "cell_type": "markdown",
   "metadata": {},
   "source": [
    "# Highlighter recipes"
   ]
  },
  {
   "cell_type": "code",
   "execution_count": 1,
   "metadata": {},
   "outputs": [],
   "source": [
    "from standoff2inline import Highlighter, highlight"
   ]
  },
  {
   "cell_type": "markdown",
   "metadata": {},
   "source": [
    "Use the `Highlighter` class to set prefixes and suffixes common to several annotations.  You can defined several `Highlighter` classes and pass them all to the `highlight()` function to merge them."
   ]
  },
  {
   "cell_type": "markdown",
   "metadata": {},
   "source": [
    "## Basics"
   ]
  },
  {
   "cell_type": "markdown",
   "metadata": {},
   "source": [
    "For example, if you want to put between square brackets the nouns, you just need to define the open and close brackets in the constructor:"
   ]
  },
  {
   "cell_type": "code",
   "execution_count": 12,
   "metadata": {},
   "outputs": [
    {
     "data": {
      "text/plain": [
       "'The little [cat] drinks [milk] ...'"
      ]
     },
     "execution_count": 12,
     "metadata": {},
     "output_type": "execute_result"
    }
   ],
   "source": [
    "hl = Highlighter(prefix=\"[\", suffix=\"]\")\n",
    "hl.add_mark(4, 4)\n",
    "hl.add_mark(2, 2)\n",
    "tokens = \"The little cat drinks milk ...\".split()\n",
    "highlight(tokens, hl)"
   ]
  },
  {
   "cell_type": "markdown",
   "metadata": {},
   "source": [
    "You can set custom prefixes and suffixes for each annotation, though:"
   ]
  },
  {
   "cell_type": "code",
   "execution_count": 13,
   "metadata": {},
   "outputs": [
    {
     "data": {
      "text/plain": [
       "'The little <cat> drinks (milk) ...'"
      ]
     },
     "execution_count": 13,
     "metadata": {},
     "output_type": "execute_result"
    }
   ],
   "source": [
    "hl = Highlighter()\n",
    "hl.add_mark(4, 4, \"(\", \")\")\n",
    "hl.add_mark(2, 2, \"<\", \">\")\n",
    "tokens = \"The little cat drinks milk ...\".split()\n",
    "highlight(tokens, hl)"
   ]
  },
  {
   "cell_type": "markdown",
   "metadata": {},
   "source": [
    "And you can combine both, for example a common prefix with different suffixes for each annotation:"
   ]
  },
  {
   "cell_type": "code",
   "execution_count": 14,
   "metadata": {},
   "outputs": [
    {
     "data": {
      "text/plain": [
       "'The little [cat> drinks [milk) ...'"
      ]
     },
     "execution_count": 14,
     "metadata": {},
     "output_type": "execute_result"
    }
   ],
   "source": [
    "hl = Highlighter(prefix=\"[\")\n",
    "hl.add_mark(4, 4, suffix=\")\")\n",
    "hl.add_mark(2, 2, suffix=\">\")\n",
    "tokens = \"The little cat drinks milk ...\".split()\n",
    "highlight(tokens, hl)"
   ]
  },
  {
   "cell_type": "markdown",
   "metadata": {},
   "source": [
    "Or the other way around:"
   ]
  },
  {
   "cell_type": "code",
   "execution_count": 15,
   "metadata": {},
   "outputs": [
    {
     "data": {
      "text/plain": [
       "'The little <cat] drinks (milk] ...'"
      ]
     },
     "execution_count": 15,
     "metadata": {},
     "output_type": "execute_result"
    }
   ],
   "source": [
    "hl = Highlighter(suffix=\"]\")\n",
    "hl.add_mark(4, 4, prefix=\"(\")\n",
    "hl.add_mark(2, 2, prefix=\"<\")\n",
    "tokens = \"The little cat drinks milk ...\".split()\n",
    "highlight(tokens, hl)"
   ]
  },
  {
   "cell_type": "markdown",
   "metadata": {},
   "source": [
    "Or with xmlish tags:"
   ]
  },
  {
   "cell_type": "code",
   "execution_count": 23,
   "metadata": {},
   "outputs": [
    {
     "data": {
      "text/plain": [
       "'<span type=\"sent\"><span type=\"gn\"><span type=\"det\">The</span> little <span type=\"noun\">cat</span></span> drinks <span type=\"noun\">milk</span> ...</span>'"
      ]
     },
     "execution_count": 23,
     "metadata": {},
     "output_type": "execute_result"
    }
   ],
   "source": [
    "hl = Highlighter(suffix=\"</span>\")\n",
    "hl.add_mark(0, 5, '<span type=\"sent\">')\n",
    "hl.add_mark(0, 2, '<span type=\"gn\">')\n",
    "hl.add_mark(4, 4 ,'<span type=\"noun\">')\n",
    "hl.add_mark(2, 2, '<span type=\"noun\">')\n",
    "hl.add_mark(0, 0, '<span type=\"det\">')\n",
    "tokens = \"The little cat drinks milk ...\".split()\n",
    "highlight(tokens, hl)"
   ]
  },
  {
   "cell_type": "markdown",
   "metadata": {},
   "source": [
    "Note that you **can't**, for now, put a default affix and then change it:"
   ]
  },
  {
   "cell_type": "code",
   "execution_count": 5,
   "metadata": {},
   "outputs": [
    {
     "data": {
      "text/plain": [
       "'The little [cat) drinks [milk] ...'"
      ]
     },
     "execution_count": 5,
     "metadata": {},
     "output_type": "execute_result"
    }
   ],
   "source": [
    "# -- This doesn't work --\n",
    "hl = Highlighter(prefix=\"[\", suffix=\"]\") # don't define `suffix` here, or put it to None\n",
    "hl.add_mark(4, 4, suffix=\")\")\n",
    "hl.add_mark(2, 2, suffix=\">\")\n",
    "tokens = \"The little cat drinks milk ...\".split()\n",
    "highlight(tokens, hl)"
   ]
  },
  {
   "cell_type": "markdown",
   "metadata": {},
   "source": [
    "Prefixes and suffixes may be given as list (matching the number of tokens):"
   ]
  },
  {
   "cell_type": "code",
   "execution_count": 16,
   "metadata": {},
   "outputs": [
    {
     "data": {
      "text/plain": [
       "'[The]D [little]A [cat]N [drinks]V [milk]M [...]P'"
      ]
     },
     "execution_count": 16,
     "metadata": {},
     "output_type": "execute_result"
    }
   ],
   "source": [
    "hl = Highlighter(prefix=\"[\", suffix=\"]D ]A ]N ]V ]M ]P\".split())\n",
    "tokens = \"The little cat drinks milk ...\".split()\n",
    "hl.add_marks((x, x) for x in range(len(tokens)))\n",
    "highlight(tokens, hl)"
   ]
  },
  {
   "cell_type": "markdown",
   "metadata": {},
   "source": [
    "## Gaps"
   ]
  },
  {
   "cell_type": "markdown",
   "metadata": {},
   "source": [
    "If may want to keep only a context window between your annotation, and to remove long chunks of text between two annotation.  Use the following parameters of `highlight()`:\n",
    "* `margin`: the margin (left and right) to keep, in characters or tokens (depending on the `char` parameter),\n",
    "* `max_gap`: the maximum number of characters or tokens allowed between two annotations."
   ]
  },
  {
   "cell_type": "code",
   "execution_count": 24,
   "metadata": {},
   "outputs": [
    {
     "data": {
      "text/plain": [
       "'<span type=\"det\">The</span> little <span type=\"noun\">cat</span> who played [...] children drinks <span type=\"noun\">milk</span> ... And [...]'"
      ]
     },
     "execution_count": 24,
     "metadata": {},
     "output_type": "execute_result"
    }
   ],
   "source": [
    "hl = Highlighter(suffix=\"</span>\")\n",
    "hl.add_mark(2, 2, '<span type=\"noun\">')\n",
    "hl.add_mark(12, 12 ,'<span type=\"noun\">')\n",
    "hl.add_mark(0, 0, '<span type=\"det\">')\n",
    "tokens = \"The little cat who played yesterday with my \" \\\n",
    "\"neighbor 's children drinks \" \\\n",
    "\"milk ...  And the next sentence ...\".split()\n",
    "highlight(tokens, hl, margin=2, max_gap=4)"
   ]
  },
  {
   "cell_type": "markdown",
   "metadata": {},
   "source": [
    "## Several highlighters"
   ]
  },
  {
   "cell_type": "code",
   "execution_count": 25,
   "metadata": {},
   "outputs": [
    {
     "data": {
      "text/plain": [
       "'<span type=\"sent\"><span type=\"gn\"><span type=\"det\">The</span> little <span type=\"noun\">[cat]</span></span> drinks <span type=\"noun\">[milk]</span> ...</span>'"
      ]
     },
     "execution_count": 25,
     "metadata": {},
     "output_type": "execute_result"
    }
   ],
   "source": [
    "hl1 = Highlighter(suffix=\"</span>\")\n",
    "hl1.add_mark(0, 5, '<span type=\"sent\">')\n",
    "hl1.add_mark(0, 2, '<span type=\"gn\">')\n",
    "hl1.add_mark(4, 4 ,'<span type=\"noun\">')\n",
    "hl1.add_mark(2, 2, '<span type=\"noun\">')\n",
    "hl1.add_mark(0, 0, '<span type=\"det\">')\n",
    "hl2 = Highlighter(prefix=\"[\", suffix=\"]\")\n",
    "hl2.add_mark(2, 2)\n",
    "hl2.add_mark(4, 4)\n",
    "tokens = \"The little cat drinks milk ...\".split()\n",
    "highlight(tokens, hl1, hl2)"
   ]
  },
  {
   "cell_type": "markdown",
   "metadata": {},
   "source": [
    "## Styled highlighters"
   ]
  },
  {
   "cell_type": "markdown",
   "metadata": {},
   "source": [
    "You may set predefined styles to highlighter to get html `<span>`s. Note that you can combine putting prefixes and suffixes in the constructor and then use `set_style()`, but apply the style _after_ setting other prefixes and suffixes."
   ]
  },
  {
   "cell_type": "code",
   "execution_count": 2,
   "metadata": {},
   "outputs": [
    {
     "name": "stdout",
     "output_type": "stream",
     "text": [
      "<span style=\"color: red; \">The</span> little <span style=\"text-decoration: underline; \">cat</span> <span style=\"font-weight: bold; font-style: italic; \">[drinks]</span> <span style=\"text-decoration: underline; \">milk</span> ...\n"
     ]
    },
    {
     "data": {
      "text/html": [
       "<span style=\"color: red; \">The</span> little <span style=\"text-decoration: underline; \">cat</span> <span style=\"font-weight: bold; font-style: italic; \">[drinks]</span> <span style=\"text-decoration: underline; \">milk</span> ..."
      ],
      "text/plain": [
       "<IPython.core.display.HTML object>"
      ]
     },
     "metadata": {},
     "output_type": "display_data"
    }
   ],
   "source": [
    "from standoff2inline import Highlighter, highlight\n",
    "\n",
    "hl_det = Highlighter()\n",
    "hl_det.add_mark(0, 0)\n",
    "hl_det.set_style(color=\"red\")\n",
    "\n",
    "hl_noun = Highlighter()\n",
    "hl_noun.add_mark(2, 2)\n",
    "hl_noun.add_mark(4, 4)\n",
    "hl_noun.set_style(underline=True)\n",
    "\n",
    "hl_verb = Highlighter(prefix=\"[\", suffix=\"]\")\n",
    "hl_verb.add_mark(3, 3)\n",
    "hl_verb.set_style(bold=True, italic=True)\n",
    "\n",
    "tokens = \"The little cat drinks milk ...\".split()\n",
    "res = highlight(tokens, hl_det, hl_noun, hl_verb)\n",
    "print(res)\n",
    "\n",
    "from IPython.core.display import display, HTML\n",
    "display(HTML(res))"
   ]
  },
  {
   "cell_type": "markdown",
   "metadata": {},
   "source": [
    "## Using character positions rather than token positions"
   ]
  },
  {
   "cell_type": "markdown",
   "metadata": {},
   "source": [
    "Use the `char` parameter:"
   ]
  },
  {
   "cell_type": "code",
   "execution_count": 27,
   "metadata": {},
   "outputs": [
    {
     "name": "stdout",
     "output_type": "stream",
     "text": [
      "<span style=\"color: red; \">The</span> little <span style=\"text-decoration: underline; \">cat</span> <span style=\"font-weight: bold; font-style: italic; \">drinks</span> <span style=\"text-decoration: underline; \">milk</span>...\n"
     ]
    },
    {
     "data": {
      "text/html": [
       "<span style=\"color: red; \">The</span> little <span style=\"text-decoration: underline; \">cat</span> <span style=\"font-weight: bold; font-style: italic; \">drinks</span> <span style=\"text-decoration: underline; \">milk</span>..."
      ],
      "text/plain": [
       "<IPython.core.display.HTML object>"
      ]
     },
     "metadata": {},
     "output_type": "display_data"
    }
   ],
   "source": [
    "hl_det = Highlighter()\n",
    "hl_det.add_mark(0, 2)\n",
    "hl_det.set_style(color=\"red\")\n",
    "hl_noun = Highlighter()\n",
    "hl_noun.add_mark(11, 13)\n",
    "hl_noun.add_mark(22, 25)\n",
    "hl_noun.set_style(underline=True)\n",
    "hl_verb = Highlighter()\n",
    "hl_verb.add_mark(15, 20)\n",
    "hl_verb.set_style(bold=True, italic=True)\n",
    "string = \"The little cat drinks milk...\"\n",
    "res = highlight(string, hl_det, hl_noun, hl_verb, char=True)\n",
    "\n",
    "print(res)\n",
    "\n",
    "from IPython.core.display import display, HTML\n",
    "display(HTML(res))"
   ]
  },
  {
   "cell_type": "markdown",
   "metadata": {},
   "source": [
    "## Using an highlighter to put a line break"
   ]
  },
  {
   "cell_type": "code",
   "execution_count": 29,
   "metadata": {},
   "outputs": [
    {
     "data": {
      "text/plain": [
       "'The little <span type=\"noun\">cat</span> drinks <span type=\"noun\">milk</span> ... <br />And is happy'"
      ]
     },
     "execution_count": 29,
     "metadata": {},
     "output_type": "execute_result"
    }
   ],
   "source": [
    "hl1 = Highlighter(suffix=\"</span>\")\n",
    "hl1.add_mark(4, 4 ,'<span type=\"noun\">')\n",
    "hl1.add_mark(2, 2, '<span type=\"noun\">')\n",
    "hl2 = Highlighter(prefix=\"<br />\")\n",
    "hl2.add_mark(6, 6)\n",
    "tokens = \"The little cat drinks milk ...  And is happy\".split()\n",
    "highlight(tokens, hl1, hl2)"
   ]
  }
 ],
 "metadata": {
  "kernelspec": {
   "display_name": "Python 3",
   "language": "python",
   "name": "python3"
  },
  "language_info": {
   "codemirror_mode": {
    "name": "ipython",
    "version": 3
   },
   "file_extension": ".py",
   "mimetype": "text/x-python",
   "name": "python",
   "nbconvert_exporter": "python",
   "pygments_lexer": "ipython3",
   "version": "3.7.3"
  }
 },
 "nbformat": 4,
 "nbformat_minor": 2
}
